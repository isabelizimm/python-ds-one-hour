{
 "cells": [
  {
   "cell_type": "markdown",
   "metadata": {},
   "source": [
    "# Intro\n",
    "\n",
    "- Where are we?\n",
    "- Why are Jupyter notebooks useful?\n",
    "- How do I use them?"
   ]
  },
  {
   "cell_type": "code",
   "execution_count": null,
   "metadata": {},
   "outputs": [],
   "source": [
    "words = \"a collection of alphabets, words or other characters are called strings\""
   ]
  },
  {
   "cell_type": "code",
   "execution_count": null,
   "metadata": {},
   "outputs": [],
   "source": [
    "print(words)"
   ]
  },
  {
   "cell_type": "code",
   "execution_count": null,
   "metadata": {},
   "outputs": [],
   "source": [
    "# there are many \"types\"\n",
    "# type(words)\n",
    "# type(1)"
   ]
  },
  {
   "cell_type": "code",
   "execution_count": null,
   "metadata": {},
   "outputs": [],
   "source": [
    "# we can add numeric types, and Python will follow order of operations\n",
    "\n",
    "1 + 3 + 4 * 5"
   ]
  },
  {
   "cell_type": "markdown",
   "metadata": {},
   "source": [
    "# Find data\n",
    "\n",
    "The first task is to put data into our computational environment. We will need to import a few packages, which are collections of code that are neatly arranged for us to use."
   ]
  },
  {
   "cell_type": "code",
   "execution_count": null,
   "metadata": {},
   "outputs": [],
   "source": [
    "# data manipulation\n",
    "import pandas as pd\n",
    "\n",
    "# plotting\n",
    "from plotnine import *"
   ]
  },
  {
   "cell_type": "markdown",
   "metadata": {},
   "source": [
    "We want to get the data that is available at the url https://vincentarelbundock.github.io/Rdatasets/csv/datasets/mtcars.csv. We'll want to create a variable called `url`, to store this."
   ]
  },
  {
   "cell_type": "code",
   "execution_count": null,
   "metadata": {},
   "outputs": [],
   "source": [
    "# create a VARIABLE called url\n",
    "\n",
    "url = ___"
   ]
  },
  {
   "cell_type": "markdown",
   "metadata": {},
   "source": [
    "And we will use that url to read the CSV into our notebook. We'll use a function from `pandas` called `read_csv` and supply the necessary arguments."
   ]
  },
  {
   "cell_type": "code",
   "execution_count": null,
   "metadata": {},
   "outputs": [],
   "source": [
    "?pd.read_csv"
   ]
  },
  {
   "cell_type": "markdown",
   "metadata": {},
   "source": [
    "# Explore data\n",
    "\n",
    "After we have saved our dataset to another variable called `data`, let's do some summary statistics. All of these functions will come from the `pandas` library. It may be helpful to [look at pandas documentation for DataFrames](https://pandas.pydata.org/docs/reference/frame.html)."
   ]
  },
  {
   "cell_type": "code",
   "execution_count": null,
   "metadata": {},
   "outputs": [],
   "source": [
    "# run to find the size of the DataFrame\n",
    "data.size\n",
    "\n",
    "# what does this mean? \n",
    "# uncomment and look at a single column to help understand\n",
    "# data['hp'].size"
   ]
  },
  {
   "cell_type": "code",
   "execution_count": null,
   "metadata": {},
   "outputs": [],
   "source": [
    "# your turn: find another way to view high level info about our data\n",
    "# hint: \n"
   ]
  },
  {
   "cell_type": "markdown",
   "metadata": {},
   "source": [
    "We might want to do some simple tasks to better understand or communicate the data."
   ]
  },
  {
   "cell_type": "code",
   "execution_count": null,
   "metadata": {},
   "outputs": [],
   "source": [
    "# run to find the minimum of each column\n",
    "data.min()"
   ]
  },
  {
   "cell_type": "code",
   "execution_count": null,
   "metadata": {},
   "outputs": [],
   "source": [
    "# your turn: find the max of each column\n"
   ]
  },
  {
   "cell_type": "code",
   "execution_count": null,
   "metadata": {},
   "outputs": [],
   "source": [
    "# your turn: find the mean of each column\n"
   ]
  },
  {
   "cell_type": "markdown",
   "metadata": {},
   "source": [
    "That column does not have an intuitive name. Let's change it to something more reasonable."
   ]
  },
  {
   "cell_type": "code",
   "execution_count": null,
   "metadata": {},
   "outputs": [],
   "source": [
    "# together: rename columns\n",
    "data.rename(columns={})"
   ]
  },
  {
   "cell_type": "markdown",
   "metadata": {},
   "source": [
    "We can also do these operations on groups, using something called method chaining. Here we will do multiple operations on the data at once. First, we can use `groupby()` on the data, and find the min or max of each group."
   ]
  },
  {
   "cell_type": "code",
   "execution_count": null,
   "metadata": {},
   "outputs": [],
   "source": []
  },
  {
   "cell_type": "markdown",
   "metadata": {},
   "source": [
    "# Plotting\n",
    "\n",
    "We will use a library called `plotnine`. I really like it since it uses a _grammar of graphics_ which builds a vocabulary to create plots.\n",
    "\n",
    "[plotnine documentation](https://plotnine.readthedocs.io/en/stable/)\n",
    "\n",
    "![](https://miro.medium.com/v2/resize:fit:1400/1*ZdQ9wFwaA214ABiib7AygQ.png)"
   ]
  },
  {
   "cell_type": "code",
   "execution_count": null,
   "metadata": {},
   "outputs": [],
   "source": [
    "# run to see a minimal ggplot\n",
    "\n",
    "(ggplot(data, aes(x = \"mpg\"))\n",
    "    + geom_histogram()\n",
    ")"
   ]
  },
  {
   "cell_type": "code",
   "execution_count": null,
   "metadata": {},
   "outputs": [],
   "source": [
    "# your turn: edit the plot above to use geom_point for a scatter plot\n",
    "\n",
    "(ggplot(data, aes(x = \"mpg\"))\n",
    "    + geom_histogram()\n",
    ")"
   ]
  },
  {
   "cell_type": "code",
   "execution_count": null,
   "metadata": {},
   "outputs": [],
   "source": [
    "# your turn: edit the code below to add \n",
    "# the aesthetic color for the number of gears\n",
    "\n",
    "(ggplot(data, aes(x = \"mpg\", y = \"wt\"))\n",
    " + geom_point()\n",
    ")"
   ]
  },
  {
   "cell_type": "code",
   "execution_count": null,
   "metadata": {},
   "outputs": [],
   "source": [
    "# your turn: create a plot of your own"
   ]
  }
 ],
 "metadata": {
  "kernelspec": {
   "display_name": "pydemo",
   "language": "python",
   "name": "python3"
  },
  "language_info": {
   "codemirror_mode": {
    "name": "ipython",
    "version": 3
   },
   "file_extension": ".py",
   "mimetype": "text/x-python",
   "name": "python",
   "nbconvert_exporter": "python",
   "pygments_lexer": "ipython3",
   "version": "3.9.11"
  }
 },
 "nbformat": 4,
 "nbformat_minor": 2
}
